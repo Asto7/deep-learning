{
  "nbformat": 4,
  "nbformat_minor": 0,
  "metadata": {
    "colab": {
      "name": "mobilePriceClassification",
      "provenance": [],
      "collapsed_sections": [],
      "authorship_tag": "ABX9TyN2kHGvC35RMPWlz138Vx9a",
      "include_colab_link": true
    },
    "kernelspec": {
      "name": "python3",
      "display_name": "Python 3"
    },
    "accelerator": "GPU"
  },
  "cells": [
    {
      "cell_type": "markdown",
      "metadata": {
        "id": "view-in-github",
        "colab_type": "text"
      },
      "source": [
        "<a href=\"https://colab.research.google.com/github/Asto7/deep-learning/blob/main/mobilePriceClassification.ipynb\" target=\"_parent\"><img src=\"https://colab.research.google.com/assets/colab-badge.svg\" alt=\"Open In Colab\"/></a>"
      ]
    },
    {
      "cell_type": "code",
      "metadata": {
        "colab": {
          "base_uri": "https://localhost:8080/"
        },
        "id": "lEBaxXTC4aEs",
        "outputId": "de34a762-f9c6-4b34-da37-95e181ed5bac"
      },
      "source": [
        "!pip install kaggle\n"
      ],
      "execution_count": 1,
      "outputs": [
        {
          "output_type": "stream",
          "text": [
            "Requirement already satisfied: kaggle in /usr/local/lib/python3.7/dist-packages (1.5.10)\n",
            "Requirement already satisfied: python-dateutil in /usr/local/lib/python3.7/dist-packages (from kaggle) (2.8.1)\n",
            "Requirement already satisfied: six>=1.10 in /usr/local/lib/python3.7/dist-packages (from kaggle) (1.15.0)\n",
            "Requirement already satisfied: tqdm in /usr/local/lib/python3.7/dist-packages (from kaggle) (4.41.1)\n",
            "Requirement already satisfied: certifi in /usr/local/lib/python3.7/dist-packages (from kaggle) (2020.12.5)\n",
            "Requirement already satisfied: urllib3 in /usr/local/lib/python3.7/dist-packages (from kaggle) (1.24.3)\n",
            "Requirement already satisfied: python-slugify in /usr/local/lib/python3.7/dist-packages (from kaggle) (4.0.1)\n",
            "Requirement already satisfied: requests in /usr/local/lib/python3.7/dist-packages (from kaggle) (2.23.0)\n",
            "Requirement already satisfied: text-unidecode>=1.3 in /usr/local/lib/python3.7/dist-packages (from python-slugify->kaggle) (1.3)\n",
            "Requirement already satisfied: chardet<4,>=3.0.2 in /usr/local/lib/python3.7/dist-packages (from requests->kaggle) (3.0.4)\n",
            "Requirement already satisfied: idna<3,>=2.5 in /usr/local/lib/python3.7/dist-packages (from requests->kaggle) (2.10)\n"
          ],
          "name": "stdout"
        }
      ]
    },
    {
      "cell_type": "code",
      "metadata": {
        "id": "btHh4rD24jEW"
      },
      "source": [
        "from google.colab import files\n",
        "files.upload()\n"
      ],
      "execution_count": null,
      "outputs": []
    },
    {
      "cell_type": "code",
      "metadata": {
        "id": "Dl5r2Eni4mg9"
      },
      "source": [
        "!mkdir -p ~/.kaggle\n",
        "!cp kaggle.json ~/.kaggle\n",
        "!chmod 600 ~/.kaggle/kaggle.json"
      ],
      "execution_count": 3,
      "outputs": []
    },
    {
      "cell_type": "code",
      "metadata": {
        "colab": {
          "base_uri": "https://localhost:8080/"
        },
        "id": "tAkqQZA35EZY",
        "outputId": "8aaee406-ac3c-4d13-8d2c-6fc61c80545f"
      },
      "source": [
        "!kaggle datasets download -d iabhishekofficial/mobile-price-classification"
      ],
      "execution_count": 4,
      "outputs": [
        {
          "output_type": "stream",
          "text": [
            "Downloading mobile-price-classification.zip to /content\n",
            "\r  0% 0.00/70.6k [00:00<?, ?B/s]\n",
            "\r100% 70.6k/70.6k [00:00<00:00, 26.3MB/s]\n"
          ],
          "name": "stdout"
        }
      ]
    },
    {
      "cell_type": "code",
      "metadata": {
        "colab": {
          "base_uri": "https://localhost:8080/"
        },
        "id": "Fm8KkbYm5H4c",
        "outputId": "7c3ddfbc-7319-4068-84df-15c206db2679"
      },
      "source": [
        "!unzip mobile-price-classification\n"
      ],
      "execution_count": 5,
      "outputs": [
        {
          "output_type": "stream",
          "text": [
            "Archive:  mobile-price-classification.zip\n",
            "  inflating: test.csv                \n",
            "  inflating: train.csv               \n"
          ],
          "name": "stdout"
        }
      ]
    },
    {
      "cell_type": "code",
      "metadata": {
        "colab": {
          "base_uri": "https://localhost:8080/",
          "height": 422
        },
        "id": "A2S3sLxD9gET",
        "outputId": "8014e77a-5079-4f74-86da-426b31d9ef0a"
      },
      "source": [
        "import pandas as pd\n",
        "df = pd.read_csv('./train.csv')\n",
        "df"
      ],
      "execution_count": 6,
      "outputs": [
        {
          "output_type": "execute_result",
          "data": {
            "text/html": [
              "<div>\n",
              "<style scoped>\n",
              "    .dataframe tbody tr th:only-of-type {\n",
              "        vertical-align: middle;\n",
              "    }\n",
              "\n",
              "    .dataframe tbody tr th {\n",
              "        vertical-align: top;\n",
              "    }\n",
              "\n",
              "    .dataframe thead th {\n",
              "        text-align: right;\n",
              "    }\n",
              "</style>\n",
              "<table border=\"1\" class=\"dataframe\">\n",
              "  <thead>\n",
              "    <tr style=\"text-align: right;\">\n",
              "      <th></th>\n",
              "      <th>battery_power</th>\n",
              "      <th>blue</th>\n",
              "      <th>clock_speed</th>\n",
              "      <th>dual_sim</th>\n",
              "      <th>fc</th>\n",
              "      <th>four_g</th>\n",
              "      <th>int_memory</th>\n",
              "      <th>m_dep</th>\n",
              "      <th>mobile_wt</th>\n",
              "      <th>n_cores</th>\n",
              "      <th>pc</th>\n",
              "      <th>px_height</th>\n",
              "      <th>px_width</th>\n",
              "      <th>ram</th>\n",
              "      <th>sc_h</th>\n",
              "      <th>sc_w</th>\n",
              "      <th>talk_time</th>\n",
              "      <th>three_g</th>\n",
              "      <th>touch_screen</th>\n",
              "      <th>wifi</th>\n",
              "      <th>price_range</th>\n",
              "    </tr>\n",
              "  </thead>\n",
              "  <tbody>\n",
              "    <tr>\n",
              "      <th>0</th>\n",
              "      <td>842</td>\n",
              "      <td>0</td>\n",
              "      <td>2.2</td>\n",
              "      <td>0</td>\n",
              "      <td>1</td>\n",
              "      <td>0</td>\n",
              "      <td>7</td>\n",
              "      <td>0.6</td>\n",
              "      <td>188</td>\n",
              "      <td>2</td>\n",
              "      <td>2</td>\n",
              "      <td>20</td>\n",
              "      <td>756</td>\n",
              "      <td>2549</td>\n",
              "      <td>9</td>\n",
              "      <td>7</td>\n",
              "      <td>19</td>\n",
              "      <td>0</td>\n",
              "      <td>0</td>\n",
              "      <td>1</td>\n",
              "      <td>1</td>\n",
              "    </tr>\n",
              "    <tr>\n",
              "      <th>1</th>\n",
              "      <td>1021</td>\n",
              "      <td>1</td>\n",
              "      <td>0.5</td>\n",
              "      <td>1</td>\n",
              "      <td>0</td>\n",
              "      <td>1</td>\n",
              "      <td>53</td>\n",
              "      <td>0.7</td>\n",
              "      <td>136</td>\n",
              "      <td>3</td>\n",
              "      <td>6</td>\n",
              "      <td>905</td>\n",
              "      <td>1988</td>\n",
              "      <td>2631</td>\n",
              "      <td>17</td>\n",
              "      <td>3</td>\n",
              "      <td>7</td>\n",
              "      <td>1</td>\n",
              "      <td>1</td>\n",
              "      <td>0</td>\n",
              "      <td>2</td>\n",
              "    </tr>\n",
              "    <tr>\n",
              "      <th>2</th>\n",
              "      <td>563</td>\n",
              "      <td>1</td>\n",
              "      <td>0.5</td>\n",
              "      <td>1</td>\n",
              "      <td>2</td>\n",
              "      <td>1</td>\n",
              "      <td>41</td>\n",
              "      <td>0.9</td>\n",
              "      <td>145</td>\n",
              "      <td>5</td>\n",
              "      <td>6</td>\n",
              "      <td>1263</td>\n",
              "      <td>1716</td>\n",
              "      <td>2603</td>\n",
              "      <td>11</td>\n",
              "      <td>2</td>\n",
              "      <td>9</td>\n",
              "      <td>1</td>\n",
              "      <td>1</td>\n",
              "      <td>0</td>\n",
              "      <td>2</td>\n",
              "    </tr>\n",
              "    <tr>\n",
              "      <th>3</th>\n",
              "      <td>615</td>\n",
              "      <td>1</td>\n",
              "      <td>2.5</td>\n",
              "      <td>0</td>\n",
              "      <td>0</td>\n",
              "      <td>0</td>\n",
              "      <td>10</td>\n",
              "      <td>0.8</td>\n",
              "      <td>131</td>\n",
              "      <td>6</td>\n",
              "      <td>9</td>\n",
              "      <td>1216</td>\n",
              "      <td>1786</td>\n",
              "      <td>2769</td>\n",
              "      <td>16</td>\n",
              "      <td>8</td>\n",
              "      <td>11</td>\n",
              "      <td>1</td>\n",
              "      <td>0</td>\n",
              "      <td>0</td>\n",
              "      <td>2</td>\n",
              "    </tr>\n",
              "    <tr>\n",
              "      <th>4</th>\n",
              "      <td>1821</td>\n",
              "      <td>1</td>\n",
              "      <td>1.2</td>\n",
              "      <td>0</td>\n",
              "      <td>13</td>\n",
              "      <td>1</td>\n",
              "      <td>44</td>\n",
              "      <td>0.6</td>\n",
              "      <td>141</td>\n",
              "      <td>2</td>\n",
              "      <td>14</td>\n",
              "      <td>1208</td>\n",
              "      <td>1212</td>\n",
              "      <td>1411</td>\n",
              "      <td>8</td>\n",
              "      <td>2</td>\n",
              "      <td>15</td>\n",
              "      <td>1</td>\n",
              "      <td>1</td>\n",
              "      <td>0</td>\n",
              "      <td>1</td>\n",
              "    </tr>\n",
              "    <tr>\n",
              "      <th>...</th>\n",
              "      <td>...</td>\n",
              "      <td>...</td>\n",
              "      <td>...</td>\n",
              "      <td>...</td>\n",
              "      <td>...</td>\n",
              "      <td>...</td>\n",
              "      <td>...</td>\n",
              "      <td>...</td>\n",
              "      <td>...</td>\n",
              "      <td>...</td>\n",
              "      <td>...</td>\n",
              "      <td>...</td>\n",
              "      <td>...</td>\n",
              "      <td>...</td>\n",
              "      <td>...</td>\n",
              "      <td>...</td>\n",
              "      <td>...</td>\n",
              "      <td>...</td>\n",
              "      <td>...</td>\n",
              "      <td>...</td>\n",
              "      <td>...</td>\n",
              "    </tr>\n",
              "    <tr>\n",
              "      <th>1995</th>\n",
              "      <td>794</td>\n",
              "      <td>1</td>\n",
              "      <td>0.5</td>\n",
              "      <td>1</td>\n",
              "      <td>0</td>\n",
              "      <td>1</td>\n",
              "      <td>2</td>\n",
              "      <td>0.8</td>\n",
              "      <td>106</td>\n",
              "      <td>6</td>\n",
              "      <td>14</td>\n",
              "      <td>1222</td>\n",
              "      <td>1890</td>\n",
              "      <td>668</td>\n",
              "      <td>13</td>\n",
              "      <td>4</td>\n",
              "      <td>19</td>\n",
              "      <td>1</td>\n",
              "      <td>1</td>\n",
              "      <td>0</td>\n",
              "      <td>0</td>\n",
              "    </tr>\n",
              "    <tr>\n",
              "      <th>1996</th>\n",
              "      <td>1965</td>\n",
              "      <td>1</td>\n",
              "      <td>2.6</td>\n",
              "      <td>1</td>\n",
              "      <td>0</td>\n",
              "      <td>0</td>\n",
              "      <td>39</td>\n",
              "      <td>0.2</td>\n",
              "      <td>187</td>\n",
              "      <td>4</td>\n",
              "      <td>3</td>\n",
              "      <td>915</td>\n",
              "      <td>1965</td>\n",
              "      <td>2032</td>\n",
              "      <td>11</td>\n",
              "      <td>10</td>\n",
              "      <td>16</td>\n",
              "      <td>1</td>\n",
              "      <td>1</td>\n",
              "      <td>1</td>\n",
              "      <td>2</td>\n",
              "    </tr>\n",
              "    <tr>\n",
              "      <th>1997</th>\n",
              "      <td>1911</td>\n",
              "      <td>0</td>\n",
              "      <td>0.9</td>\n",
              "      <td>1</td>\n",
              "      <td>1</td>\n",
              "      <td>1</td>\n",
              "      <td>36</td>\n",
              "      <td>0.7</td>\n",
              "      <td>108</td>\n",
              "      <td>8</td>\n",
              "      <td>3</td>\n",
              "      <td>868</td>\n",
              "      <td>1632</td>\n",
              "      <td>3057</td>\n",
              "      <td>9</td>\n",
              "      <td>1</td>\n",
              "      <td>5</td>\n",
              "      <td>1</td>\n",
              "      <td>1</td>\n",
              "      <td>0</td>\n",
              "      <td>3</td>\n",
              "    </tr>\n",
              "    <tr>\n",
              "      <th>1998</th>\n",
              "      <td>1512</td>\n",
              "      <td>0</td>\n",
              "      <td>0.9</td>\n",
              "      <td>0</td>\n",
              "      <td>4</td>\n",
              "      <td>1</td>\n",
              "      <td>46</td>\n",
              "      <td>0.1</td>\n",
              "      <td>145</td>\n",
              "      <td>5</td>\n",
              "      <td>5</td>\n",
              "      <td>336</td>\n",
              "      <td>670</td>\n",
              "      <td>869</td>\n",
              "      <td>18</td>\n",
              "      <td>10</td>\n",
              "      <td>19</td>\n",
              "      <td>1</td>\n",
              "      <td>1</td>\n",
              "      <td>1</td>\n",
              "      <td>0</td>\n",
              "    </tr>\n",
              "    <tr>\n",
              "      <th>1999</th>\n",
              "      <td>510</td>\n",
              "      <td>1</td>\n",
              "      <td>2.0</td>\n",
              "      <td>1</td>\n",
              "      <td>5</td>\n",
              "      <td>1</td>\n",
              "      <td>45</td>\n",
              "      <td>0.9</td>\n",
              "      <td>168</td>\n",
              "      <td>6</td>\n",
              "      <td>16</td>\n",
              "      <td>483</td>\n",
              "      <td>754</td>\n",
              "      <td>3919</td>\n",
              "      <td>19</td>\n",
              "      <td>4</td>\n",
              "      <td>2</td>\n",
              "      <td>1</td>\n",
              "      <td>1</td>\n",
              "      <td>1</td>\n",
              "      <td>3</td>\n",
              "    </tr>\n",
              "  </tbody>\n",
              "</table>\n",
              "<p>2000 rows × 21 columns</p>\n",
              "</div>"
            ],
            "text/plain": [
              "      battery_power  blue  clock_speed  ...  touch_screen  wifi  price_range\n",
              "0               842     0          2.2  ...             0     1            1\n",
              "1              1021     1          0.5  ...             1     0            2\n",
              "2               563     1          0.5  ...             1     0            2\n",
              "3               615     1          2.5  ...             0     0            2\n",
              "4              1821     1          1.2  ...             1     0            1\n",
              "...             ...   ...          ...  ...           ...   ...          ...\n",
              "1995            794     1          0.5  ...             1     0            0\n",
              "1996           1965     1          2.6  ...             1     1            2\n",
              "1997           1911     0          0.9  ...             1     0            3\n",
              "1998           1512     0          0.9  ...             1     1            0\n",
              "1999            510     1          2.0  ...             1     1            3\n",
              "\n",
              "[2000 rows x 21 columns]"
            ]
          },
          "metadata": {
            "tags": []
          },
          "execution_count": 6
        }
      ]
    },
    {
      "cell_type": "code",
      "metadata": {
        "id": "gp4GW8Be9iDJ"
      },
      "source": [
        "dataset = df.values\n",
        "X  = dataset[:,0:20]\n",
        "Y = dataset[:, 20]"
      ],
      "execution_count": 7,
      "outputs": []
    },
    {
      "cell_type": "code",
      "metadata": {
        "id": "o-Vl3MZX97YH"
      },
      "source": [
        "from sklearn import preprocessing"
      ],
      "execution_count": 8,
      "outputs": []
    },
    {
      "cell_type": "code",
      "metadata": {
        "id": "oGmN2OrD97_g"
      },
      "source": [
        "min_max_scaler = preprocessing.MinMaxScaler()\n",
        "X_scale = min_max_scaler.fit_transform(X)"
      ],
      "execution_count": 9,
      "outputs": []
    },
    {
      "cell_type": "code",
      "metadata": {
        "colab": {
          "base_uri": "https://localhost:8080/"
        },
        "id": "Bnofouv1I_Po",
        "outputId": "013ddae6-87bf-4438-dafa-5eec12cb42bd"
      },
      "source": [
        "X_scale"
      ],
      "execution_count": 10,
      "outputs": [
        {
          "output_type": "execute_result",
          "data": {
            "text/plain": [
              "array([[0.22778891, 0.        , 0.68      , ..., 0.        , 0.        ,\n",
              "        1.        ],\n",
              "       [0.34736139, 1.        , 0.        , ..., 1.        , 1.        ,\n",
              "        0.        ],\n",
              "       [0.04141617, 1.        , 0.        , ..., 1.        , 1.        ,\n",
              "        0.        ],\n",
              "       ...,\n",
              "       [0.94188377, 0.        , 0.16      , ..., 1.        , 1.        ,\n",
              "        0.        ],\n",
              "       [0.6753507 , 0.        , 0.16      , ..., 1.        , 1.        ,\n",
              "        1.        ],\n",
              "       [0.00601202, 1.        , 0.6       , ..., 1.        , 1.        ,\n",
              "        1.        ]])"
            ]
          },
          "metadata": {
            "tags": []
          },
          "execution_count": 10
        }
      ]
    },
    {
      "cell_type": "code",
      "metadata": {
        "colab": {
          "base_uri": "https://localhost:8080/"
        },
        "id": "JkSw55g4K5ra",
        "outputId": "66e74811-e5b5-4813-f562-cab8fed22d04"
      },
      "source": [
        "from sklearn.model_selection import train_test_split\n",
        "X_train, X_val_and_test, Y_train, Y_val_and_test = train_test_split(X_scale, Y, test_size=0.3)\n",
        "X_val, X_test, Y_val, Y_test = train_test_split(X_val_and_test, Y_val_and_test, test_size=0.5)\n",
        "print(X_train.shape, X_val.shape, X_test.shape, Y_train.shape, Y_val.shape, Y_test.shape)"
      ],
      "execution_count": 11,
      "outputs": [
        {
          "output_type": "stream",
          "text": [
            "(1400, 20) (300, 20) (300, 20) (1400,) (300,) (300,)\n"
          ],
          "name": "stdout"
        }
      ]
    },
    {
      "cell_type": "code",
      "metadata": {
        "colab": {
          "base_uri": "https://localhost:8080/"
        },
        "id": "yfaPcBmHUbR_",
        "outputId": "b87ab9b1-7c07-44c9-ec58-1bd30c90660e"
      },
      "source": [
        "import tensorflow as tf\n",
        "\n",
        "C = tf.constant(4, name = \"C\") \n",
        "\n",
        "Y_VAL = tf.one_hot( \n",
        "    Y_val, C, on_value = 1.0, off_value = 0.0, axis =-1) \n",
        "\n",
        "Y_TRAIN = tf.one_hot( \n",
        "    Y_train, C, on_value = 1.0, off_value = 0.0, axis =-1) \n",
        "\n",
        "Y_TEST = tf.one_hot( \n",
        "    Y_test, C, on_value = 1.0, off_value = 0.0, axis =-1) \n",
        "\n",
        "Y_VAL"
      ],
      "execution_count": 12,
      "outputs": [
        {
          "output_type": "execute_result",
          "data": {
            "text/plain": [
              "<tf.Tensor: shape=(300, 4), dtype=float32, numpy=\n",
              "array([[0., 0., 1., 0.],\n",
              "       [1., 0., 0., 0.],\n",
              "       [0., 0., 0., 1.],\n",
              "       ...,\n",
              "       [0., 1., 0., 0.],\n",
              "       [1., 0., 0., 0.],\n",
              "       [0., 0., 0., 1.]], dtype=float32)>"
            ]
          },
          "metadata": {
            "tags": []
          },
          "execution_count": 12
        }
      ]
    },
    {
      "cell_type": "code",
      "metadata": {
        "id": "IrH1wzuYJDX_"
      },
      "source": [
        "from keras.models import Sequential\n",
        "from keras.layers import Dense"
      ],
      "execution_count": 13,
      "outputs": []
    },
    {
      "cell_type": "code",
      "metadata": {
        "id": "7Xe7v7NXJLfN"
      },
      "source": [
        "model = Sequential([\n",
        "    Dense(32, activation='relu', input_shape=(20,)),\n",
        "    Dense(16, activation='relu'),\n",
        "    Dense(4, activation='sigmoid'),\n",
        "])"
      ],
      "execution_count": 14,
      "outputs": []
    },
    {
      "cell_type": "code",
      "metadata": {
        "id": "6RpS_WMbJSXl"
      },
      "source": [
        "model.compile(optimizer='adam',\n",
        "              loss='categorical_crossentropy',\n",
        "              metrics=['accuracy'])"
      ],
      "execution_count": 15,
      "outputs": []
    },
    {
      "cell_type": "code",
      "metadata": {
        "colab": {
          "base_uri": "https://localhost:8080/"
        },
        "id": "jinCppjrKIyM",
        "outputId": "ad331c8a-536c-4fca-e5c6-a2c1249ce675"
      },
      "source": [
        "hist = model.fit(X_train, Y_TRAIN,\n",
        "          batch_size=32, epochs=100,\n",
        "          validation_data=(X_val, Y_VAL))"
      ],
      "execution_count": 16,
      "outputs": [
        {
          "output_type": "stream",
          "text": [
            "Epoch 1/100\n",
            "44/44 [==============================] - 3s 14ms/step - loss: 1.3945 - accuracy: 0.2696 - val_loss: 1.3898 - val_accuracy: 0.2433\n",
            "Epoch 2/100\n",
            "44/44 [==============================] - 0s 4ms/step - loss: 1.3545 - accuracy: 0.3361 - val_loss: 1.3437 - val_accuracy: 0.3467\n",
            "Epoch 3/100\n",
            "44/44 [==============================] - 0s 4ms/step - loss: 1.2893 - accuracy: 0.4545 - val_loss: 1.2632 - val_accuracy: 0.4267\n",
            "Epoch 4/100\n",
            "44/44 [==============================] - 0s 4ms/step - loss: 1.1951 - accuracy: 0.5223 - val_loss: 1.1468 - val_accuracy: 0.5133\n",
            "Epoch 5/100\n",
            "44/44 [==============================] - 0s 4ms/step - loss: 1.0539 - accuracy: 0.6171 - val_loss: 0.9938 - val_accuracy: 0.6200\n",
            "Epoch 6/100\n",
            "44/44 [==============================] - 0s 4ms/step - loss: 0.9205 - accuracy: 0.6893 - val_loss: 0.8714 - val_accuracy: 0.6767\n",
            "Epoch 7/100\n",
            "44/44 [==============================] - 0s 4ms/step - loss: 0.8122 - accuracy: 0.7094 - val_loss: 0.7736 - val_accuracy: 0.7367\n",
            "Epoch 8/100\n",
            "44/44 [==============================] - 0s 4ms/step - loss: 0.7062 - accuracy: 0.7484 - val_loss: 0.6976 - val_accuracy: 0.7600\n",
            "Epoch 9/100\n",
            "44/44 [==============================] - 0s 4ms/step - loss: 0.6238 - accuracy: 0.7895 - val_loss: 0.6385 - val_accuracy: 0.8200\n",
            "Epoch 10/100\n",
            "44/44 [==============================] - 0s 4ms/step - loss: 0.5957 - accuracy: 0.8282 - val_loss: 0.5939 - val_accuracy: 0.8133\n",
            "Epoch 11/100\n",
            "44/44 [==============================] - 0s 5ms/step - loss: 0.5331 - accuracy: 0.8323 - val_loss: 0.5539 - val_accuracy: 0.8300\n",
            "Epoch 12/100\n",
            "44/44 [==============================] - 0s 4ms/step - loss: 0.4830 - accuracy: 0.8666 - val_loss: 0.5135 - val_accuracy: 0.8167\n",
            "Epoch 13/100\n",
            "44/44 [==============================] - 0s 4ms/step - loss: 0.4601 - accuracy: 0.8723 - val_loss: 0.4859 - val_accuracy: 0.8467\n",
            "Epoch 14/100\n",
            "44/44 [==============================] - 0s 4ms/step - loss: 0.4267 - accuracy: 0.8815 - val_loss: 0.4741 - val_accuracy: 0.8300\n",
            "Epoch 15/100\n",
            "44/44 [==============================] - 0s 4ms/step - loss: 0.4090 - accuracy: 0.8830 - val_loss: 0.4595 - val_accuracy: 0.8267\n",
            "Epoch 16/100\n",
            "44/44 [==============================] - 0s 4ms/step - loss: 0.3859 - accuracy: 0.8949 - val_loss: 0.4138 - val_accuracy: 0.8767\n",
            "Epoch 17/100\n",
            "44/44 [==============================] - 0s 4ms/step - loss: 0.3561 - accuracy: 0.9083 - val_loss: 0.4161 - val_accuracy: 0.8533\n",
            "Epoch 18/100\n",
            "44/44 [==============================] - 0s 4ms/step - loss: 0.3249 - accuracy: 0.9195 - val_loss: 0.3868 - val_accuracy: 0.8733\n",
            "Epoch 19/100\n",
            "44/44 [==============================] - 0s 4ms/step - loss: 0.3252 - accuracy: 0.9034 - val_loss: 0.3680 - val_accuracy: 0.8600\n",
            "Epoch 20/100\n",
            "44/44 [==============================] - 0s 4ms/step - loss: 0.2995 - accuracy: 0.9224 - val_loss: 0.3579 - val_accuracy: 0.8833\n",
            "Epoch 21/100\n",
            "44/44 [==============================] - 0s 4ms/step - loss: 0.2837 - accuracy: 0.9268 - val_loss: 0.3453 - val_accuracy: 0.8733\n",
            "Epoch 22/100\n",
            "44/44 [==============================] - 0s 4ms/step - loss: 0.2762 - accuracy: 0.9151 - val_loss: 0.3303 - val_accuracy: 0.8833\n",
            "Epoch 23/100\n",
            "44/44 [==============================] - 0s 4ms/step - loss: 0.2782 - accuracy: 0.9189 - val_loss: 0.3612 - val_accuracy: 0.8633\n",
            "Epoch 24/100\n",
            "44/44 [==============================] - 0s 4ms/step - loss: 0.2486 - accuracy: 0.9281 - val_loss: 0.3040 - val_accuracy: 0.8833\n",
            "Epoch 25/100\n",
            "44/44 [==============================] - 0s 4ms/step - loss: 0.2392 - accuracy: 0.9394 - val_loss: 0.2984 - val_accuracy: 0.8767\n",
            "Epoch 26/100\n",
            "44/44 [==============================] - 0s 4ms/step - loss: 0.2308 - accuracy: 0.9407 - val_loss: 0.2892 - val_accuracy: 0.8800\n",
            "Epoch 27/100\n",
            "44/44 [==============================] - 0s 4ms/step - loss: 0.2040 - accuracy: 0.9478 - val_loss: 0.2839 - val_accuracy: 0.8833\n",
            "Epoch 28/100\n",
            "44/44 [==============================] - 0s 4ms/step - loss: 0.2007 - accuracy: 0.9659 - val_loss: 0.2776 - val_accuracy: 0.8833\n",
            "Epoch 29/100\n",
            "44/44 [==============================] - 0s 4ms/step - loss: 0.2046 - accuracy: 0.9503 - val_loss: 0.2699 - val_accuracy: 0.8967\n",
            "Epoch 30/100\n",
            "44/44 [==============================] - 0s 4ms/step - loss: 0.1837 - accuracy: 0.9616 - val_loss: 0.2603 - val_accuracy: 0.8867\n",
            "Epoch 31/100\n",
            "44/44 [==============================] - 0s 4ms/step - loss: 0.1826 - accuracy: 0.9642 - val_loss: 0.2832 - val_accuracy: 0.8867\n",
            "Epoch 32/100\n",
            "44/44 [==============================] - 0s 5ms/step - loss: 0.1853 - accuracy: 0.9502 - val_loss: 0.2526 - val_accuracy: 0.9000\n",
            "Epoch 33/100\n",
            "44/44 [==============================] - 0s 5ms/step - loss: 0.1784 - accuracy: 0.9688 - val_loss: 0.2545 - val_accuracy: 0.9000\n",
            "Epoch 34/100\n",
            "44/44 [==============================] - 0s 4ms/step - loss: 0.1595 - accuracy: 0.9662 - val_loss: 0.2546 - val_accuracy: 0.8833\n",
            "Epoch 35/100\n",
            "44/44 [==============================] - 0s 4ms/step - loss: 0.1614 - accuracy: 0.9611 - val_loss: 0.2414 - val_accuracy: 0.9000\n",
            "Epoch 36/100\n",
            "44/44 [==============================] - 0s 4ms/step - loss: 0.1482 - accuracy: 0.9690 - val_loss: 0.2346 - val_accuracy: 0.8933\n",
            "Epoch 37/100\n",
            "44/44 [==============================] - 0s 4ms/step - loss: 0.1518 - accuracy: 0.9663 - val_loss: 0.2336 - val_accuracy: 0.9000\n",
            "Epoch 38/100\n",
            "44/44 [==============================] - 0s 4ms/step - loss: 0.1473 - accuracy: 0.9708 - val_loss: 0.2344 - val_accuracy: 0.8933\n",
            "Epoch 39/100\n",
            "44/44 [==============================] - 0s 4ms/step - loss: 0.1441 - accuracy: 0.9598 - val_loss: 0.2279 - val_accuracy: 0.8967\n",
            "Epoch 40/100\n",
            "44/44 [==============================] - 0s 4ms/step - loss: 0.1472 - accuracy: 0.9692 - val_loss: 0.2366 - val_accuracy: 0.8900\n",
            "Epoch 41/100\n",
            "44/44 [==============================] - 0s 4ms/step - loss: 0.1352 - accuracy: 0.9700 - val_loss: 0.2283 - val_accuracy: 0.8967\n",
            "Epoch 42/100\n",
            "44/44 [==============================] - 0s 4ms/step - loss: 0.1352 - accuracy: 0.9661 - val_loss: 0.2228 - val_accuracy: 0.8933\n",
            "Epoch 43/100\n",
            "44/44 [==============================] - 0s 4ms/step - loss: 0.1244 - accuracy: 0.9632 - val_loss: 0.2173 - val_accuracy: 0.9100\n",
            "Epoch 44/100\n",
            "44/44 [==============================] - 0s 5ms/step - loss: 0.1207 - accuracy: 0.9797 - val_loss: 0.2223 - val_accuracy: 0.8933\n",
            "Epoch 45/100\n",
            "44/44 [==============================] - 0s 4ms/step - loss: 0.1254 - accuracy: 0.9763 - val_loss: 0.2213 - val_accuracy: 0.9000\n",
            "Epoch 46/100\n",
            "44/44 [==============================] - 0s 4ms/step - loss: 0.1215 - accuracy: 0.9716 - val_loss: 0.2302 - val_accuracy: 0.8867\n",
            "Epoch 47/100\n",
            "44/44 [==============================] - 0s 4ms/step - loss: 0.1241 - accuracy: 0.9699 - val_loss: 0.2106 - val_accuracy: 0.9000\n",
            "Epoch 48/100\n",
            "44/44 [==============================] - 0s 4ms/step - loss: 0.1131 - accuracy: 0.9775 - val_loss: 0.2130 - val_accuracy: 0.9033\n",
            "Epoch 49/100\n",
            "44/44 [==============================] - 0s 5ms/step - loss: 0.1132 - accuracy: 0.9823 - val_loss: 0.2111 - val_accuracy: 0.8967\n",
            "Epoch 50/100\n",
            "44/44 [==============================] - 0s 4ms/step - loss: 0.1015 - accuracy: 0.9817 - val_loss: 0.2204 - val_accuracy: 0.8867\n",
            "Epoch 51/100\n",
            "44/44 [==============================] - 0s 4ms/step - loss: 0.1092 - accuracy: 0.9804 - val_loss: 0.2141 - val_accuracy: 0.8900\n",
            "Epoch 52/100\n",
            "44/44 [==============================] - 0s 4ms/step - loss: 0.0965 - accuracy: 0.9838 - val_loss: 0.2073 - val_accuracy: 0.8967\n",
            "Epoch 53/100\n",
            "44/44 [==============================] - 0s 4ms/step - loss: 0.1001 - accuracy: 0.9786 - val_loss: 0.2078 - val_accuracy: 0.9000\n",
            "Epoch 54/100\n",
            "44/44 [==============================] - 0s 4ms/step - loss: 0.1039 - accuracy: 0.9779 - val_loss: 0.2119 - val_accuracy: 0.8900\n",
            "Epoch 55/100\n",
            "44/44 [==============================] - 0s 4ms/step - loss: 0.1056 - accuracy: 0.9787 - val_loss: 0.2113 - val_accuracy: 0.9067\n",
            "Epoch 56/100\n",
            "44/44 [==============================] - 0s 4ms/step - loss: 0.0834 - accuracy: 0.9912 - val_loss: 0.2104 - val_accuracy: 0.9033\n",
            "Epoch 57/100\n",
            "44/44 [==============================] - 0s 4ms/step - loss: 0.0933 - accuracy: 0.9784 - val_loss: 0.1991 - val_accuracy: 0.9000\n",
            "Epoch 58/100\n",
            "44/44 [==============================] - 0s 4ms/step - loss: 0.0907 - accuracy: 0.9833 - val_loss: 0.1950 - val_accuracy: 0.9233\n",
            "Epoch 59/100\n",
            "44/44 [==============================] - 0s 4ms/step - loss: 0.0879 - accuracy: 0.9838 - val_loss: 0.1969 - val_accuracy: 0.9000\n",
            "Epoch 60/100\n",
            "44/44 [==============================] - 0s 4ms/step - loss: 0.0891 - accuracy: 0.9831 - val_loss: 0.2166 - val_accuracy: 0.9033\n",
            "Epoch 61/100\n",
            "44/44 [==============================] - 0s 4ms/step - loss: 0.0933 - accuracy: 0.9776 - val_loss: 0.1995 - val_accuracy: 0.8900\n",
            "Epoch 62/100\n",
            "44/44 [==============================] - 0s 4ms/step - loss: 0.0789 - accuracy: 0.9887 - val_loss: 0.2028 - val_accuracy: 0.8900\n",
            "Epoch 63/100\n",
            "44/44 [==============================] - 0s 4ms/step - loss: 0.0866 - accuracy: 0.9854 - val_loss: 0.1952 - val_accuracy: 0.9100\n",
            "Epoch 64/100\n",
            "44/44 [==============================] - 0s 5ms/step - loss: 0.0745 - accuracy: 0.9890 - val_loss: 0.2271 - val_accuracy: 0.8800\n",
            "Epoch 65/100\n",
            "44/44 [==============================] - 0s 5ms/step - loss: 0.0799 - accuracy: 0.9849 - val_loss: 0.1957 - val_accuracy: 0.9067\n",
            "Epoch 66/100\n",
            "44/44 [==============================] - 0s 4ms/step - loss: 0.0848 - accuracy: 0.9827 - val_loss: 0.2012 - val_accuracy: 0.8933\n",
            "Epoch 67/100\n",
            "44/44 [==============================] - 0s 4ms/step - loss: 0.0820 - accuracy: 0.9824 - val_loss: 0.1910 - val_accuracy: 0.8967\n",
            "Epoch 68/100\n",
            "44/44 [==============================] - 0s 4ms/step - loss: 0.0705 - accuracy: 0.9913 - val_loss: 0.1971 - val_accuracy: 0.8933\n",
            "Epoch 69/100\n",
            "44/44 [==============================] - 0s 4ms/step - loss: 0.0721 - accuracy: 0.9923 - val_loss: 0.1861 - val_accuracy: 0.9100\n",
            "Epoch 70/100\n",
            "44/44 [==============================] - 0s 4ms/step - loss: 0.0708 - accuracy: 0.9929 - val_loss: 0.1985 - val_accuracy: 0.9033\n",
            "Epoch 71/100\n",
            "44/44 [==============================] - 0s 4ms/step - loss: 0.0665 - accuracy: 0.9875 - val_loss: 0.2061 - val_accuracy: 0.9067\n",
            "Epoch 72/100\n",
            "44/44 [==============================] - 0s 5ms/step - loss: 0.0702 - accuracy: 0.9860 - val_loss: 0.1998 - val_accuracy: 0.8900\n",
            "Epoch 73/100\n",
            "44/44 [==============================] - 0s 4ms/step - loss: 0.0680 - accuracy: 0.9858 - val_loss: 0.1926 - val_accuracy: 0.9033\n",
            "Epoch 74/100\n",
            "44/44 [==============================] - 0s 4ms/step - loss: 0.0665 - accuracy: 0.9929 - val_loss: 0.1822 - val_accuracy: 0.9133\n",
            "Epoch 75/100\n",
            "44/44 [==============================] - 0s 4ms/step - loss: 0.0612 - accuracy: 0.9913 - val_loss: 0.2045 - val_accuracy: 0.9100\n",
            "Epoch 76/100\n",
            "44/44 [==============================] - 0s 4ms/step - loss: 0.0686 - accuracy: 0.9865 - val_loss: 0.1866 - val_accuracy: 0.9100\n",
            "Epoch 77/100\n",
            "44/44 [==============================] - 0s 4ms/step - loss: 0.0660 - accuracy: 0.9937 - val_loss: 0.1875 - val_accuracy: 0.9167\n",
            "Epoch 78/100\n",
            "44/44 [==============================] - 0s 4ms/step - loss: 0.0677 - accuracy: 0.9896 - val_loss: 0.1946 - val_accuracy: 0.9200\n",
            "Epoch 79/100\n",
            "44/44 [==============================] - 0s 4ms/step - loss: 0.0586 - accuracy: 0.9914 - val_loss: 0.1966 - val_accuracy: 0.8900\n",
            "Epoch 80/100\n",
            "44/44 [==============================] - 0s 4ms/step - loss: 0.0561 - accuracy: 0.9929 - val_loss: 0.1833 - val_accuracy: 0.9100\n",
            "Epoch 81/100\n",
            "44/44 [==============================] - 0s 4ms/step - loss: 0.0535 - accuracy: 0.9964 - val_loss: 0.1977 - val_accuracy: 0.9000\n",
            "Epoch 82/100\n",
            "44/44 [==============================] - 0s 4ms/step - loss: 0.0564 - accuracy: 0.9930 - val_loss: 0.1832 - val_accuracy: 0.9067\n",
            "Epoch 83/100\n",
            "44/44 [==============================] - 0s 4ms/step - loss: 0.0538 - accuracy: 0.9977 - val_loss: 0.1951 - val_accuracy: 0.8967\n",
            "Epoch 84/100\n",
            "44/44 [==============================] - 0s 4ms/step - loss: 0.0547 - accuracy: 0.9986 - val_loss: 0.1939 - val_accuracy: 0.9000\n",
            "Epoch 85/100\n",
            "44/44 [==============================] - 0s 4ms/step - loss: 0.0558 - accuracy: 0.9938 - val_loss: 0.1879 - val_accuracy: 0.9100\n",
            "Epoch 86/100\n",
            "44/44 [==============================] - 0s 4ms/step - loss: 0.0468 - accuracy: 0.9939 - val_loss: 0.1843 - val_accuracy: 0.9133\n",
            "Epoch 87/100\n",
            "44/44 [==============================] - 0s 4ms/step - loss: 0.0495 - accuracy: 0.9941 - val_loss: 0.1926 - val_accuracy: 0.9033\n",
            "Epoch 88/100\n",
            "44/44 [==============================] - 0s 4ms/step - loss: 0.0581 - accuracy: 0.9858 - val_loss: 0.2061 - val_accuracy: 0.8933\n",
            "Epoch 89/100\n",
            "44/44 [==============================] - 0s 4ms/step - loss: 0.0512 - accuracy: 0.9944 - val_loss: 0.2058 - val_accuracy: 0.9033\n",
            "Epoch 90/100\n",
            "44/44 [==============================] - 0s 4ms/step - loss: 0.0581 - accuracy: 0.9906 - val_loss: 0.2008 - val_accuracy: 0.9000\n",
            "Epoch 91/100\n",
            "44/44 [==============================] - 0s 4ms/step - loss: 0.0480 - accuracy: 0.9968 - val_loss: 0.1840 - val_accuracy: 0.9067\n",
            "Epoch 92/100\n",
            "44/44 [==============================] - 0s 4ms/step - loss: 0.0456 - accuracy: 0.9966 - val_loss: 0.1931 - val_accuracy: 0.9067\n",
            "Epoch 93/100\n",
            "44/44 [==============================] - 0s 4ms/step - loss: 0.0509 - accuracy: 0.9963 - val_loss: 0.1912 - val_accuracy: 0.8967\n",
            "Epoch 94/100\n",
            "44/44 [==============================] - 0s 4ms/step - loss: 0.0456 - accuracy: 0.9957 - val_loss: 0.1856 - val_accuracy: 0.9033\n",
            "Epoch 95/100\n",
            "44/44 [==============================] - 0s 4ms/step - loss: 0.0411 - accuracy: 0.9984 - val_loss: 0.2016 - val_accuracy: 0.9033\n",
            "Epoch 96/100\n",
            "44/44 [==============================] - 0s 4ms/step - loss: 0.0432 - accuracy: 0.9988 - val_loss: 0.1924 - val_accuracy: 0.8933\n",
            "Epoch 97/100\n",
            "44/44 [==============================] - 0s 4ms/step - loss: 0.0448 - accuracy: 0.9946 - val_loss: 0.1898 - val_accuracy: 0.9067\n",
            "Epoch 98/100\n",
            "44/44 [==============================] - 0s 4ms/step - loss: 0.0450 - accuracy: 0.9978 - val_loss: 0.1897 - val_accuracy: 0.9000\n",
            "Epoch 99/100\n",
            "44/44 [==============================] - 0s 4ms/step - loss: 0.0412 - accuracy: 0.9926 - val_loss: 0.2257 - val_accuracy: 0.9133\n",
            "Epoch 100/100\n",
            "44/44 [==============================] - 0s 4ms/step - loss: 0.0538 - accuracy: 0.9840 - val_loss: 0.2047 - val_accuracy: 0.8967\n"
          ],
          "name": "stdout"
        }
      ]
    },
    {
      "cell_type": "code",
      "metadata": {
        "id": "KDFeSasBQz-6",
        "colab": {
          "base_uri": "https://localhost:8080/",
          "height": 295
        },
        "outputId": "944e6666-2073-4638-b976-4f85588911e4"
      },
      "source": [
        "import matplotlib.pyplot as plt\n",
        "plt.plot(hist.history['loss'])\n",
        "plt.plot(hist.history['val_loss'])\n",
        "plt.title('Model loss')\n",
        "plt.ylabel('Loss')\n",
        "plt.xlabel('Epoch')\n",
        "plt.legend(['Train', 'Val'], loc='upper right')\n",
        "plt.show()"
      ],
      "execution_count": 17,
      "outputs": [
        {
          "output_type": "display_data",
          "data": {
            "image/png": "[encoded data removed]",
            "text/plain": [
              "<Figure size 432x288 with 1 Axes>"
            ]
          },
          "metadata": {
            "tags": [],
            "needs_background": "light"
          }
        }
      ]
    },
    {
      "cell_type": "code",
      "metadata": {
        "colab": {
          "base_uri": "https://localhost:8080/",
          "height": 295
        },
        "id": "3rhhryEnvTmk",
        "outputId": "4f702f45-9ca9-49e1-a60d-70eb23d93f13"
      },
      "source": [
        "plt.plot(hist.history['accuracy'])\n",
        "plt.plot(hist.history['val_accuracy'])\n",
        "plt.title('Model accuracy')\n",
        "plt.ylabel('Accuracy')\n",
        "plt.xlabel('Epoch')\n",
        "plt.legend(['Train', 'Val'], loc='lower right')\n",
        "plt.show()"
      ],
      "execution_count": 18,
      "outputs": [
        {
          "output_type": "display_data",
          "data": {
            "image/png": "[encoded data removed]",
            "text/plain": [
              "<Figure size 432x288 with 1 Axes>"
            ]
          },
          "metadata": {
            "tags": [],
            "needs_background": "light"
          }
        }
      ]
    },
    {
      "cell_type": "code",
      "metadata": {
        "colab": {
          "base_uri": "https://localhost:8080/"
        },
        "id": "YMhRozokw5YQ",
        "outputId": "51622f3a-0970-4305-ef89-508b8382a87b"
      },
      "source": [
        "from keras.layers import Dropout\n",
        "from keras import regularizers\n",
        "model_2 = Sequential([\n",
        "    Dense(1000, activation='relu', input_shape=(20,), kernel_regularizer = regularizers.l2(0.01)),\n",
        "    Dropout(0.3),\n",
        "    Dense(1000, activation='relu', kernel_regularizer = regularizers.l2(0.01)),\n",
        "    Dropout(0.3),\n",
        "    Dense(1000, activation='relu', kernel_regularizer = regularizers.l2(0.01)),\n",
        "    Dropout(0.3),\n",
        "    Dense(1000, activation='relu', kernel_regularizer = regularizers.l2(0.01)),\n",
        "    Dropout(0.3),\n",
        "    Dense(4, activation='sigmoid', kernel_regularizer = regularizers.l2(0.01)),\n",
        "])\n",
        "\n",
        "model_2.compile(optimizer='adam',\n",
        "              loss='categorical_crossentropy',\n",
        "              metrics=['accuracy'])\n",
        "\n",
        "hist_2 = model_2.fit(X_train, Y_TRAIN,\n",
        "          batch_size=32, epochs=100,\n",
        "          validation_data=(X_val, Y_VAL))\n",
        "# hist_2 = model_2.fit(X_train, Y_TRAIN, batch_size=32, epochs=100, validation_data=(X_val, Y_VAL))"
      ],
      "execution_count": 19,
      "outputs": [
        {
          "output_type": "stream",
          "text": [
            "Epoch 1/100\n",
            "44/44 [==============================] - 1s 14ms/step - loss: 20.3027 - accuracy: 0.2889 - val_loss: 2.7047 - val_accuracy: 0.5133\n",
            "Epoch 2/100\n",
            "44/44 [==============================] - 0s 9ms/step - loss: 2.0159 - accuracy: 0.5722 - val_loss: 1.0636 - val_accuracy: 0.7333\n",
            "Epoch 3/100\n",
            "44/44 [==============================] - 0s 8ms/step - loss: 1.0959 - accuracy: 0.7209 - val_loss: 1.0253 - val_accuracy: 0.7633\n",
            "Epoch 4/100\n",
            "44/44 [==============================] - 0s 8ms/step - loss: 1.0150 - accuracy: 0.7390 - val_loss: 0.8224 - val_accuracy: 0.8467\n",
            "Epoch 5/100\n",
            "44/44 [==============================] - 0s 8ms/step - loss: 0.8466 - accuracy: 0.8323 - val_loss: 0.7803 - val_accuracy: 0.8733\n",
            "Epoch 6/100\n",
            "44/44 [==============================] - 0s 8ms/step - loss: 0.8102 - accuracy: 0.8350 - val_loss: 0.8123 - val_accuracy: 0.8467\n",
            "Epoch 7/100\n",
            "44/44 [==============================] - 0s 8ms/step - loss: 0.7887 - accuracy: 0.8625 - val_loss: 0.7164 - val_accuracy: 0.9033\n",
            "Epoch 8/100\n",
            "44/44 [==============================] - 0s 8ms/step - loss: 0.7791 - accuracy: 0.8352 - val_loss: 0.7367 - val_accuracy: 0.8900\n",
            "Epoch 9/100\n",
            "44/44 [==============================] - 0s 8ms/step - loss: 0.7288 - accuracy: 0.8824 - val_loss: 0.7940 - val_accuracy: 0.8100\n",
            "Epoch 10/100\n",
            "44/44 [==============================] - 0s 8ms/step - loss: 0.7426 - accuracy: 0.8681 - val_loss: 0.7010 - val_accuracy: 0.8967\n",
            "Epoch 11/100\n",
            "44/44 [==============================] - 0s 8ms/step - loss: 0.7115 - accuracy: 0.8849 - val_loss: 0.6588 - val_accuracy: 0.9233\n",
            "Epoch 12/100\n",
            "44/44 [==============================] - 0s 8ms/step - loss: 0.6964 - accuracy: 0.8663 - val_loss: 0.6794 - val_accuracy: 0.8967\n",
            "Epoch 13/100\n",
            "44/44 [==============================] - 0s 8ms/step - loss: 0.7088 - accuracy: 0.8742 - val_loss: 0.6470 - val_accuracy: 0.9467\n",
            "Epoch 14/100\n",
            "44/44 [==============================] - 0s 7ms/step - loss: 0.7404 - accuracy: 0.8522 - val_loss: 0.7184 - val_accuracy: 0.8333\n",
            "Epoch 15/100\n",
            "44/44 [==============================] - 0s 7ms/step - loss: 0.6961 - accuracy: 0.8771 - val_loss: 0.6460 - val_accuracy: 0.9100\n",
            "Epoch 16/100\n",
            "44/44 [==============================] - 0s 7ms/step - loss: 0.6753 - accuracy: 0.8769 - val_loss: 0.6235 - val_accuracy: 0.9533\n",
            "Epoch 17/100\n",
            "44/44 [==============================] - 0s 7ms/step - loss: 0.6801 - accuracy: 0.8689 - val_loss: 0.7529 - val_accuracy: 0.8033\n",
            "Epoch 18/100\n",
            "44/44 [==============================] - 0s 7ms/step - loss: 0.6394 - accuracy: 0.9022 - val_loss: 0.6604 - val_accuracy: 0.8933\n",
            "Epoch 19/100\n",
            "44/44 [==============================] - 0s 8ms/step - loss: 0.6464 - accuracy: 0.9000 - val_loss: 0.6904 - val_accuracy: 0.8700\n",
            "Epoch 20/100\n",
            "44/44 [==============================] - 0s 7ms/step - loss: 0.6712 - accuracy: 0.8881 - val_loss: 0.6273 - val_accuracy: 0.9200\n",
            "Epoch 21/100\n",
            "44/44 [==============================] - 0s 7ms/step - loss: 0.6470 - accuracy: 0.8922 - val_loss: 0.6840 - val_accuracy: 0.8933\n",
            "Epoch 22/100\n",
            "44/44 [==============================] - 0s 7ms/step - loss: 0.6913 - accuracy: 0.8605 - val_loss: 0.7812 - val_accuracy: 0.7900\n",
            "Epoch 23/100\n",
            "44/44 [==============================] - 0s 7ms/step - loss: 0.7017 - accuracy: 0.8540 - val_loss: 0.7081 - val_accuracy: 0.8267\n",
            "Epoch 24/100\n",
            "44/44 [==============================] - 0s 7ms/step - loss: 0.6971 - accuracy: 0.8540 - val_loss: 0.6420 - val_accuracy: 0.8800\n",
            "Epoch 25/100\n",
            "44/44 [==============================] - 0s 7ms/step - loss: 0.6412 - accuracy: 0.8938 - val_loss: 0.6082 - val_accuracy: 0.9167\n",
            "Epoch 26/100\n",
            "44/44 [==============================] - 0s 7ms/step - loss: 0.6421 - accuracy: 0.8923 - val_loss: 0.6313 - val_accuracy: 0.9000\n",
            "Epoch 27/100\n",
            "44/44 [==============================] - 0s 8ms/step - loss: 0.6522 - accuracy: 0.8739 - val_loss: 0.6011 - val_accuracy: 0.9200\n",
            "Epoch 28/100\n",
            "44/44 [==============================] - 0s 8ms/step - loss: 0.6225 - accuracy: 0.9028 - val_loss: 0.6028 - val_accuracy: 0.9233\n",
            "Epoch 29/100\n",
            "44/44 [==============================] - 0s 7ms/step - loss: 0.6556 - accuracy: 0.8639 - val_loss: 0.6666 - val_accuracy: 0.8600\n",
            "Epoch 30/100\n",
            "44/44 [==============================] - 0s 7ms/step - loss: 0.6440 - accuracy: 0.8796 - val_loss: 0.6072 - val_accuracy: 0.9200\n",
            "Epoch 31/100\n",
            "44/44 [==============================] - 0s 7ms/step - loss: 0.6245 - accuracy: 0.9016 - val_loss: 0.5695 - val_accuracy: 0.9567\n",
            "Epoch 32/100\n",
            "44/44 [==============================] - 0s 7ms/step - loss: 0.5989 - accuracy: 0.9172 - val_loss: 0.6048 - val_accuracy: 0.9300\n",
            "Epoch 33/100\n",
            "44/44 [==============================] - 0s 7ms/step - loss: 0.6596 - accuracy: 0.8779 - val_loss: 0.6393 - val_accuracy: 0.9033\n",
            "Epoch 34/100\n",
            "44/44 [==============================] - 0s 7ms/step - loss: 0.6825 - accuracy: 0.8565 - val_loss: 0.5867 - val_accuracy: 0.9333\n",
            "Epoch 35/100\n",
            "44/44 [==============================] - 0s 7ms/step - loss: 0.6425 - accuracy: 0.8677 - val_loss: 0.7244 - val_accuracy: 0.7867\n",
            "Epoch 36/100\n",
            "44/44 [==============================] - 0s 7ms/step - loss: 0.6660 - accuracy: 0.8685 - val_loss: 0.6074 - val_accuracy: 0.8933\n",
            "Epoch 37/100\n",
            "44/44 [==============================] - 0s 7ms/step - loss: 0.6618 - accuracy: 0.8696 - val_loss: 0.5891 - val_accuracy: 0.9133\n",
            "Epoch 38/100\n",
            "44/44 [==============================] - 0s 8ms/step - loss: 0.5819 - accuracy: 0.9161 - val_loss: 0.6015 - val_accuracy: 0.9167\n",
            "Epoch 39/100\n",
            "44/44 [==============================] - 0s 8ms/step - loss: 0.6250 - accuracy: 0.8882 - val_loss: 0.5942 - val_accuracy: 0.9300\n",
            "Epoch 40/100\n",
            "44/44 [==============================] - 0s 8ms/step - loss: 0.6267 - accuracy: 0.8854 - val_loss: 0.6178 - val_accuracy: 0.8933\n",
            "Epoch 41/100\n",
            "44/44 [==============================] - 0s 7ms/step - loss: 0.6178 - accuracy: 0.8978 - val_loss: 0.5884 - val_accuracy: 0.9133\n",
            "Epoch 42/100\n",
            "44/44 [==============================] - 0s 7ms/step - loss: 0.6472 - accuracy: 0.8722 - val_loss: 0.5789 - val_accuracy: 0.9367\n",
            "Epoch 43/100\n",
            "44/44 [==============================] - 0s 7ms/step - loss: 0.5857 - accuracy: 0.9216 - val_loss: 0.5707 - val_accuracy: 0.9400\n",
            "Epoch 44/100\n",
            "44/44 [==============================] - 0s 7ms/step - loss: 0.6112 - accuracy: 0.8943 - val_loss: 0.7544 - val_accuracy: 0.8433\n",
            "Epoch 45/100\n",
            "44/44 [==============================] - 0s 8ms/step - loss: 0.6230 - accuracy: 0.9012 - val_loss: 0.5714 - val_accuracy: 0.9133\n",
            "Epoch 46/100\n",
            "44/44 [==============================] - 0s 7ms/step - loss: 0.6695 - accuracy: 0.8610 - val_loss: 0.6677 - val_accuracy: 0.8467\n",
            "Epoch 47/100\n",
            "44/44 [==============================] - 0s 7ms/step - loss: 0.6163 - accuracy: 0.8876 - val_loss: 0.6441 - val_accuracy: 0.8367\n",
            "Epoch 48/100\n",
            "44/44 [==============================] - 0s 7ms/step - loss: 0.6081 - accuracy: 0.9059 - val_loss: 0.6554 - val_accuracy: 0.8333\n",
            "Epoch 49/100\n",
            "44/44 [==============================] - 0s 7ms/step - loss: 0.6343 - accuracy: 0.8823 - val_loss: 0.6119 - val_accuracy: 0.8767\n",
            "Epoch 50/100\n",
            "44/44 [==============================] - 0s 8ms/step - loss: 0.6005 - accuracy: 0.8953 - val_loss: 0.6533 - val_accuracy: 0.8433\n",
            "Epoch 51/100\n",
            "44/44 [==============================] - 0s 7ms/step - loss: 0.6062 - accuracy: 0.9001 - val_loss: 0.5896 - val_accuracy: 0.9233\n",
            "Epoch 52/100\n",
            "44/44 [==============================] - 0s 8ms/step - loss: 0.5983 - accuracy: 0.8933 - val_loss: 0.6273 - val_accuracy: 0.8767\n",
            "Epoch 53/100\n",
            "44/44 [==============================] - 0s 7ms/step - loss: 0.6138 - accuracy: 0.8843 - val_loss: 0.5831 - val_accuracy: 0.9100\n",
            "Epoch 54/100\n",
            "44/44 [==============================] - 0s 7ms/step - loss: 0.6193 - accuracy: 0.8865 - val_loss: 0.5922 - val_accuracy: 0.9200\n",
            "Epoch 55/100\n",
            "44/44 [==============================] - 0s 7ms/step - loss: 0.6072 - accuracy: 0.8921 - val_loss: 0.5849 - val_accuracy: 0.9000\n",
            "Epoch 56/100\n",
            "44/44 [==============================] - 0s 7ms/step - loss: 0.5659 - accuracy: 0.9190 - val_loss: 0.6285 - val_accuracy: 0.8767\n",
            "Epoch 57/100\n",
            "44/44 [==============================] - 0s 8ms/step - loss: 0.6134 - accuracy: 0.8959 - val_loss: 0.5950 - val_accuracy: 0.9067\n",
            "Epoch 58/100\n",
            "44/44 [==============================] - 0s 7ms/step - loss: 0.6035 - accuracy: 0.8943 - val_loss: 0.6890 - val_accuracy: 0.8433\n",
            "Epoch 59/100\n",
            "44/44 [==============================] - 0s 8ms/step - loss: 0.5876 - accuracy: 0.9010 - val_loss: 0.5869 - val_accuracy: 0.9200\n",
            "Epoch 60/100\n",
            "44/44 [==============================] - 0s 8ms/step - loss: 0.6501 - accuracy: 0.8652 - val_loss: 0.6125 - val_accuracy: 0.9300\n",
            "Epoch 61/100\n",
            "44/44 [==============================] - 0s 7ms/step - loss: 0.6129 - accuracy: 0.8980 - val_loss: 0.5604 - val_accuracy: 0.9200\n",
            "Epoch 62/100\n",
            "44/44 [==============================] - 0s 8ms/step - loss: 0.5903 - accuracy: 0.9006 - val_loss: 0.6050 - val_accuracy: 0.8967\n",
            "Epoch 63/100\n",
            "44/44 [==============================] - 0s 7ms/step - loss: 0.6303 - accuracy: 0.8726 - val_loss: 0.5739 - val_accuracy: 0.9233\n",
            "Epoch 64/100\n",
            "44/44 [==============================] - 0s 8ms/step - loss: 0.5897 - accuracy: 0.9137 - val_loss: 0.6669 - val_accuracy: 0.8567\n",
            "Epoch 65/100\n",
            "44/44 [==============================] - 0s 8ms/step - loss: 0.5929 - accuracy: 0.9040 - val_loss: 0.6530 - val_accuracy: 0.8833\n",
            "Epoch 66/100\n",
            "44/44 [==============================] - 0s 8ms/step - loss: 0.6250 - accuracy: 0.8838 - val_loss: 0.5642 - val_accuracy: 0.9233\n",
            "Epoch 67/100\n",
            "44/44 [==============================] - 0s 8ms/step - loss: 0.5725 - accuracy: 0.8982 - val_loss: 0.6049 - val_accuracy: 0.8933\n",
            "Epoch 68/100\n",
            "44/44 [==============================] - 0s 8ms/step - loss: 0.5871 - accuracy: 0.8872 - val_loss: 0.5457 - val_accuracy: 0.9433\n",
            "Epoch 69/100\n",
            "44/44 [==============================] - 0s 8ms/step - loss: 0.5967 - accuracy: 0.8972 - val_loss: 0.6053 - val_accuracy: 0.8767\n",
            "Epoch 70/100\n",
            "44/44 [==============================] - 0s 8ms/step - loss: 0.5810 - accuracy: 0.9027 - val_loss: 0.5821 - val_accuracy: 0.8900\n",
            "Epoch 71/100\n",
            "44/44 [==============================] - 0s 8ms/step - loss: 0.5715 - accuracy: 0.9092 - val_loss: 0.5745 - val_accuracy: 0.9300\n",
            "Epoch 72/100\n",
            "44/44 [==============================] - 0s 8ms/step - loss: 0.5641 - accuracy: 0.9151 - val_loss: 0.5784 - val_accuracy: 0.8967\n",
            "Epoch 73/100\n",
            "44/44 [==============================] - 0s 8ms/step - loss: 0.6684 - accuracy: 0.8425 - val_loss: 0.6135 - val_accuracy: 0.8833\n",
            "Epoch 74/100\n",
            "44/44 [==============================] - 0s 8ms/step - loss: 0.5834 - accuracy: 0.9046 - val_loss: 0.5861 - val_accuracy: 0.9100\n",
            "Epoch 75/100\n",
            "44/44 [==============================] - 0s 8ms/step - loss: 0.5677 - accuracy: 0.9046 - val_loss: 0.5975 - val_accuracy: 0.8933\n",
            "Epoch 76/100\n",
            "44/44 [==============================] - 0s 8ms/step - loss: 0.5845 - accuracy: 0.8968 - val_loss: 0.5927 - val_accuracy: 0.8800\n",
            "Epoch 77/100\n",
            "44/44 [==============================] - 0s 8ms/step - loss: 0.6018 - accuracy: 0.8907 - val_loss: 0.5668 - val_accuracy: 0.9167\n",
            "Epoch 78/100\n",
            "44/44 [==============================] - 0s 8ms/step - loss: 0.5730 - accuracy: 0.9041 - val_loss: 0.7347 - val_accuracy: 0.8167\n",
            "Epoch 79/100\n",
            "44/44 [==============================] - 0s 8ms/step - loss: 0.6346 - accuracy: 0.8690 - val_loss: 0.5502 - val_accuracy: 0.9367\n",
            "Epoch 80/100\n",
            "44/44 [==============================] - 0s 8ms/step - loss: 0.5875 - accuracy: 0.8929 - val_loss: 0.5869 - val_accuracy: 0.8967\n",
            "Epoch 81/100\n",
            "44/44 [==============================] - 0s 8ms/step - loss: 0.5759 - accuracy: 0.9086 - val_loss: 0.5574 - val_accuracy: 0.9167\n",
            "Epoch 82/100\n",
            "44/44 [==============================] - 0s 8ms/step - loss: 0.5681 - accuracy: 0.8969 - val_loss: 0.5382 - val_accuracy: 0.9467\n",
            "Epoch 83/100\n",
            "44/44 [==============================] - 0s 8ms/step - loss: 0.5956 - accuracy: 0.8940 - val_loss: 1.0420 - val_accuracy: 0.6833\n",
            "Epoch 84/100\n",
            "44/44 [==============================] - 0s 8ms/step - loss: 0.7703 - accuracy: 0.7892 - val_loss: 0.5572 - val_accuracy: 0.9567\n",
            "Epoch 85/100\n",
            "44/44 [==============================] - 0s 8ms/step - loss: 0.5934 - accuracy: 0.8995 - val_loss: 0.5582 - val_accuracy: 0.9300\n",
            "Epoch 86/100\n",
            "44/44 [==============================] - 0s 7ms/step - loss: 0.6105 - accuracy: 0.8815 - val_loss: 0.9053 - val_accuracy: 0.7033\n",
            "Epoch 87/100\n",
            "44/44 [==============================] - 0s 8ms/step - loss: 0.6892 - accuracy: 0.8442 - val_loss: 0.7505 - val_accuracy: 0.7800\n",
            "Epoch 88/100\n",
            "44/44 [==============================] - 0s 7ms/step - loss: 0.6013 - accuracy: 0.8943 - val_loss: 0.5626 - val_accuracy: 0.9167\n",
            "Epoch 89/100\n",
            "44/44 [==============================] - 0s 8ms/step - loss: 0.5851 - accuracy: 0.8943 - val_loss: 0.5450 - val_accuracy: 0.9367\n",
            "Epoch 90/100\n",
            "44/44 [==============================] - 0s 7ms/step - loss: 0.5672 - accuracy: 0.9079 - val_loss: 0.6291 - val_accuracy: 0.8400\n",
            "Epoch 91/100\n",
            "44/44 [==============================] - 0s 8ms/step - loss: 0.6081 - accuracy: 0.8992 - val_loss: 0.7397 - val_accuracy: 0.7967\n",
            "Epoch 92/100\n",
            "44/44 [==============================] - 0s 8ms/step - loss: 0.6249 - accuracy: 0.8783 - val_loss: 0.5778 - val_accuracy: 0.8900\n",
            "Epoch 93/100\n",
            "44/44 [==============================] - 0s 7ms/step - loss: 0.6188 - accuracy: 0.8769 - val_loss: 0.5704 - val_accuracy: 0.9033\n",
            "Epoch 94/100\n",
            "44/44 [==============================] - 0s 8ms/step - loss: 0.5756 - accuracy: 0.9034 - val_loss: 0.5568 - val_accuracy: 0.9200\n",
            "Epoch 95/100\n",
            "44/44 [==============================] - 0s 7ms/step - loss: 0.5874 - accuracy: 0.9032 - val_loss: 0.5657 - val_accuracy: 0.8967\n",
            "Epoch 96/100\n",
            "44/44 [==============================] - 0s 7ms/step - loss: 0.5965 - accuracy: 0.8973 - val_loss: 0.5832 - val_accuracy: 0.9033\n",
            "Epoch 97/100\n",
            "44/44 [==============================] - 0s 8ms/step - loss: 0.6107 - accuracy: 0.8909 - val_loss: 0.5573 - val_accuracy: 0.9167\n",
            "Epoch 98/100\n",
            "44/44 [==============================] - 0s 7ms/step - loss: 0.5973 - accuracy: 0.8910 - val_loss: 0.7398 - val_accuracy: 0.7733\n",
            "Epoch 99/100\n",
            "44/44 [==============================] - 0s 8ms/step - loss: 0.6184 - accuracy: 0.8738 - val_loss: 0.5627 - val_accuracy: 0.9233\n",
            "Epoch 100/100\n",
            "44/44 [==============================] - 0s 8ms/step - loss: 0.5960 - accuracy: 0.8812 - val_loss: 0.6762 - val_accuracy: 0.8133\n"
          ],
          "name": "stdout"
        }
      ]
    },
    {
      "cell_type": "code",
      "metadata": {
        "colab": {
          "base_uri": "https://localhost:8080/",
          "height": 295
        },
        "id": "X0AwQp6_zAmB",
        "outputId": "5561998a-ce23-4a78-a73a-e01f34c269a1"
      },
      "source": [
        "plt.plot(hist_2.history['loss'])\n",
        "plt.plot(hist_2.history['val_loss'])\n",
        "plt.title('Model loss')\n",
        "plt.ylabel('Loss')\n",
        "plt.xlabel('Epoch')\n",
        "plt.legend(['Train', 'Val'], loc='upper right')\n",
        "plt.show()"
      ],
      "execution_count": 20,
      "outputs": [
        {
          "output_type": "display_data",
          "data": {
            "image/png": "[encoded data removed]",
            "text/plain": [
              "<Figure size 432x288 with 1 Axes>"
            ]
          },
          "metadata": {
            "tags": [],
            "needs_background": "light"
          }
        }
      ]
    },
    {
      "cell_type": "code",
      "metadata": {
        "colab": {
          "base_uri": "https://localhost:8080/",
          "height": 295
        },
        "id": "x1Nnq_5vz48m",
        "outputId": "326ee22f-6e2a-4cee-ce50-e03bb3d3764f"
      },
      "source": [
        "plt.plot(hist_2.history['accuracy'])\n",
        "plt.plot(hist_2.history['val_accuracy'])\n",
        "plt.title('Model accuracy')\n",
        "plt.ylabel('Accuracy')\n",
        "plt.xlabel('Epoch')\n",
        "plt.legend(['Train', 'Val'], loc='lower right')\n",
        "plt.show()"
      ],
      "execution_count": 21,
      "outputs": [
        {
          "output_type": "display_data",
          "data": {
            "image/png": "[encoded data removed]",
            "text/plain": [
              "<Figure size 432x288 with 1 Axes>"
            ]
          },
          "metadata": {
            "tags": [],
            "needs_background": "light"
          }
        }
      ]
    },
    {
      "cell_type": "code",
      "metadata": {
        "id": "_Wmt33XFz6WP",
        "colab": {
          "base_uri": "https://localhost:8080/"
        },
        "outputId": "ddc66581-1a58-435c-ea5a-5d7e549f5502"
      },
      "source": [
        "model.evaluate(X_test, Y_TEST)\n"
      ],
      "execution_count": 25,
      "outputs": [
        {
          "output_type": "stream",
          "text": [
            "10/10 [==============================] - 0s 2ms/step - loss: 0.1770 - accuracy: 0.9033\n"
          ],
          "name": "stdout"
        },
        {
          "output_type": "execute_result",
          "data": {
            "text/plain": [
              "[0.17700804769992828, 0.903333306312561]"
            ]
          },
          "metadata": {
            "tags": []
          },
          "execution_count": 25
        }
      ]
    },
    {
      "cell_type": "code",
      "metadata": {
        "id": "gsMAZUE04_g5",
        "colab": {
          "base_uri": "https://localhost:8080/"
        },
        "outputId": "68426118-8862-4e34-f140-55ac1372b9c7"
      },
      "source": [
        "model_2.evaluate(X_test, Y_TEST)"
      ],
      "execution_count": 26,
      "outputs": [
        {
          "output_type": "stream",
          "text": [
            "10/10 [==============================] - 0s 4ms/step - loss: 0.6659 - accuracy: 0.8467\n"
          ],
          "name": "stdout"
        },
        {
          "output_type": "execute_result",
          "data": {
            "text/plain": [
              "[0.6658517718315125, 0.846666693687439]"
            ]
          },
          "metadata": {
            "tags": []
          },
          "execution_count": 26
        }
      ]
    },
    {
      "cell_type": "code",
      "metadata": {
        "id": "KJL5vJyewtr5"
      },
      "source": [
        ""
      ],
      "execution_count": null,
      "outputs": []
    }
  ]
}